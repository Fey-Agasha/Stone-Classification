{
 "cells": [
  {
   "cell_type": "code",
   "execution_count": 1,
   "id": "ccaf7a5e-77d9-449c-8809-18ef49d8b41d",
   "metadata": {},
   "outputs": [
    {
     "name": "stderr",
     "output_type": "stream",
     "text": [
      "/tmp/ipykernel_8012/719752088.py:25: FutureWarning: You are using `torch.load` with `weights_only=False` (the current default value), which uses the default pickle module implicitly. It is possible to construct malicious pickle data which will execute arbitrary code during unpickling (See https://github.com/pytorch/pytorch/blob/main/SECURITY.md#untrusted-models for more details). In a future release, the default value for `weights_only` will be flipped to `True`. This limits the functions that could be executed during unpickling. Arbitrary objects will no longer be allowed to be loaded via this mode unless they are explicitly allowlisted by the user via `torch.serialization.add_safe_globals`. We recommend you start setting `weights_only=True` for any use case where you don't have full control of the loaded file. Please open an issue on GitHub for any issues related to this experimental feature.\n",
      "  model.load_state_dict(torch.load(model_path, map_location=device))\n"
     ]
    },
    {
     "name": "stdout",
     "output_type": "stream",
     "text": [
      "🔁 TTA Pass 1/5\n"
     ]
    },
    {
     "name": "stderr",
     "output_type": "stream",
     "text": [
      "/usr/local/lib/python3.10/dist-packages/torch/utils/data/dataloader.py:617: UserWarning: This DataLoader will create 8 worker processes in total. Our suggested max number of worker in current system is 4, which is smaller than what this DataLoader is going to create. Please be aware that excessive worker creation might get DataLoader running slow or even freeze, lower the worker number to avoid potential slowness/freeze if necessary.\n",
      "  warnings.warn(\n"
     ]
    },
    {
     "name": "stdout",
     "output_type": "stream",
     "text": [
      "🔁 TTA Pass 2/5\n"
     ]
    },
    {
     "name": "stderr",
     "output_type": "stream",
     "text": [
      "/usr/local/lib/python3.10/dist-packages/torch/utils/data/dataloader.py:617: UserWarning: This DataLoader will create 8 worker processes in total. Our suggested max number of worker in current system is 4, which is smaller than what this DataLoader is going to create. Please be aware that excessive worker creation might get DataLoader running slow or even freeze, lower the worker number to avoid potential slowness/freeze if necessary.\n",
      "  warnings.warn(\n"
     ]
    },
    {
     "name": "stdout",
     "output_type": "stream",
     "text": [
      "🔁 TTA Pass 3/5\n"
     ]
    },
    {
     "name": "stderr",
     "output_type": "stream",
     "text": [
      "/usr/local/lib/python3.10/dist-packages/torch/utils/data/dataloader.py:617: UserWarning: This DataLoader will create 8 worker processes in total. Our suggested max number of worker in current system is 4, which is smaller than what this DataLoader is going to create. Please be aware that excessive worker creation might get DataLoader running slow or even freeze, lower the worker number to avoid potential slowness/freeze if necessary.\n",
      "  warnings.warn(\n"
     ]
    },
    {
     "name": "stdout",
     "output_type": "stream",
     "text": [
      "🔁 TTA Pass 4/5\n"
     ]
    },
    {
     "name": "stderr",
     "output_type": "stream",
     "text": [
      "/usr/local/lib/python3.10/dist-packages/torch/utils/data/dataloader.py:617: UserWarning: This DataLoader will create 8 worker processes in total. Our suggested max number of worker in current system is 4, which is smaller than what this DataLoader is going to create. Please be aware that excessive worker creation might get DataLoader running slow or even freeze, lower the worker number to avoid potential slowness/freeze if necessary.\n",
      "  warnings.warn(\n"
     ]
    },
    {
     "name": "stdout",
     "output_type": "stream",
     "text": [
      "🔁 TTA Pass 5/5\n"
     ]
    },
    {
     "name": "stderr",
     "output_type": "stream",
     "text": [
      "/usr/local/lib/python3.10/dist-packages/torch/utils/data/dataloader.py:617: UserWarning: This DataLoader will create 8 worker processes in total. Our suggested max number of worker in current system is 4, which is smaller than what this DataLoader is going to create. Please be aware that excessive worker creation might get DataLoader running slow or even freeze, lower the worker number to avoid potential slowness/freeze if necessary.\n",
      "  warnings.warn(\n"
     ]
    },
    {
     "name": "stdout",
     "output_type": "stream",
     "text": [
      "✅ 已保存 TTA 推理版本 submission_tta.csv，可提交 Kaggle\n"
     ]
    }
   ],
   "source": [
    "import torch\n",
    "import torch.nn as nn\n",
    "from torch.utils.data import DataLoader\n",
    "from torchvision import transforms\n",
    "import pandas as pd\n",
    "from dataset import StoneDataset\n",
    "from torchvision.models import efficientnet_b0, EfficientNet_B0_Weights\n",
    "import os\n",
    "\n",
    "# 1. 配置\n",
    "device = torch.device(\"cuda\" if torch.cuda.is_available() else \"cpu\")\n",
    "model_path = \"./best_model.pth\"\n",
    "batch_size = 256\n",
    "num_classes = 3\n",
    "\n",
    "# 2. 定义模型\n",
    "def build_model():\n",
    "    weights = EfficientNet_B0_Weights.DEFAULT\n",
    "    model = efficientnet_b0(weights=weights)\n",
    "    model.classifier[1] = nn.Linear(model.classifier[1].in_features, num_classes)\n",
    "    return model\n",
    "\n",
    "# 3. 加载模型\n",
    "model = build_model()\n",
    "model.load_state_dict(torch.load(model_path, map_location=device))\n",
    "model = model.to(device)\n",
    "model.eval()\n",
    "\n",
    "if torch.cuda.device_count() > 1:\n",
    "    model = nn.DataParallel(model)\n",
    "    print(f\"使用 {torch.cuda.device_count()} 张GPU进行 TTA 推理\")\n",
    "\n",
    "# 4. 定义 TTA 变换列表\n",
    "tta_transforms = [\n",
    "    transforms.Compose([\n",
    "        transforms.ToTensor(),\n",
    "        transforms.Normalize((0.4593, 0.4543, 0.4495), (0.1704, 0.1726, 0.1809))\n",
    "    ]),\n",
    "    transforms.Compose([\n",
    "        transforms.RandomHorizontalFlip(p=1.0),#水平翻转\n",
    "        transforms.ToTensor(),\n",
    "        transforms.Normalize((0.4593, 0.4543, 0.4495), (0.1704, 0.1726, 0.1809))\n",
    "    ]),\n",
    "    transforms.Compose([\n",
    "        transforms.RandomRotation(15),#角度旋转\n",
    "        transforms.ToTensor(),\n",
    "        transforms.Normalize((0.4593, 0.4543, 0.4495), (0.1704, 0.1726, 0.1809))\n",
    "    ]),\n",
    "    transforms.Compose([\n",
    "        transforms.ColorJitter(brightness=0.3, contrast=0.3),#光照抖动\n",
    "        transforms.ToTensor(),\n",
    "        transforms.Normalize((0.4593, 0.4543, 0.4495), (0.1704, 0.1726, 0.1809))\n",
    "    ]),\n",
    "    transforms.Compose([\n",
    "        transforms.RandomAffine(0, translate=(0.05, 0.05)),#随机平移\n",
    "        transforms.ToTensor(),\n",
    "        transforms.Normalize((0.4593, 0.4543, 0.4495), (0.1704, 0.1726, 0.1809))\n",
    "    ])\n",
    "]\n",
    "\n",
    "# 5. 做 TTA 推理\n",
    "from collections import defaultdict\n",
    "import numpy as np\n",
    "\n",
    "all_preds = defaultdict(list)\n",
    "\n",
    "for idx, t in enumerate(tta_transforms):\n",
    "    print(f\"🔁 TTA Pass {idx + 1}/{len(tta_transforms)}\")\n",
    "    test_dataset = StoneDataset(root=\"./dataset_processed\", split=\"test\", transforms=t)\n",
    "    test_loader = DataLoader(test_dataset, batch_size=batch_size, shuffle=False, num_workers=8)\n",
    "\n",
    "    with torch.no_grad():\n",
    "        for images, filenames in test_loader:\n",
    "            images = images.to(device)\n",
    "            outputs = model(images)  # logits\n",
    "            probs = torch.softmax(outputs, dim=1).cpu().numpy()\n",
    "\n",
    "            for fname, prob in zip(filenames, probs):\n",
    "                all_preds[fname].append(prob)\n",
    "\n",
    "# 6. 平均所有预测并生成提交\n",
    "final_preds = {}\n",
    "for fname, prob_list in all_preds.items():\n",
    "    avg_prob = np.mean(prob_list, axis=0)\n",
    "    pred_label = int(np.argmax(avg_prob))\n",
    "    final_preds[fname] = pred_label\n",
    "\n",
    "# 7. 保存为 submission.csv\n",
    "submission = pd.DataFrame(list(final_preds.items()), columns=[\"id\", \"label\"])\n",
    "submission = submission.sort_values(by=\"id\")\n",
    "submission.to_csv(\"submission_tta.csv\", index=False)\n",
    "print(\"✅ 已保存 TTA 推理版本 submission_tta.csv，可提交 Kaggle\")"
   ]
  },
  {
   "cell_type": "code",
   "execution_count": null,
   "id": "2c94797f-2360-4479-ba68-10a16ff01eb0",
   "metadata": {},
   "outputs": [],
   "source": []
  }
 ],
 "metadata": {
  "kernelspec": {
   "display_name": "Python 3 (ipykernel)",
   "language": "python",
   "name": "python3"
  },
  "language_info": {
   "codemirror_mode": {
    "name": "ipython",
    "version": 3
   },
   "file_extension": ".py",
   "mimetype": "text/x-python",
   "name": "python",
   "nbconvert_exporter": "python",
   "pygments_lexer": "ipython3",
   "version": "3.10.12"
  }
 },
 "nbformat": 4,
 "nbformat_minor": 5
}
